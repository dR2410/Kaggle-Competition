{
 "cells": [
  {
   "cell_type": "code",
   "execution_count": null,
   "id": "e86af4cd",
   "metadata": {},
   "outputs": [],
   "source": [
    "import pandas as pd\n",
    "import numpy as np\n",
    "import copy"
   ]
  },
  {
   "cell_type": "code",
   "execution_count": null,
   "id": "7b97d5b9",
   "metadata": {},
   "outputs": [],
   "source": [
    "df = pd.read_excel('HCP_Data_KDAG_Hackathon.xlsx')\n",
    "df.drop(columns=['Vouchers_Dropped','Speaker_Programs_Attended'],inplace=True)\n",
    "df['DateTime'] = df['Time_Period'].apply(lambda x: pd.to_datetime(str(x), format='%Y%m%d'))\n",
    "df.drop(columns=['Time_Period'],inplace=True)\n",
    "p = list(df['Physician_ID'].unique())\n",
    "x =df.groupby(['Physician_ID'])\n",
    "emp = []\n",
    "for i in p:\n",
    "    if (x.get_group(i)['Brand_Rx']==0.0).all():\n",
    "        emp.append(i)"
   ]
  },
  {
   "cell_type": "markdown",
   "id": "80ec99df",
   "metadata": {},
   "source": [
    "## Algorithm  for making recommendations (Task -1)"
   ]
  },
  {
   "cell_type": "code",
   "execution_count": null,
   "id": "575b1949",
   "metadata": {},
   "outputs": [],
   "source": [
    "idf = []\n",
    "recomm = []\n",
    "k = 0"
   ]
  },
  {
   "cell_type": "code",
   "execution_count": null,
   "id": "650b7f45",
   "metadata": {},
   "outputs": [],
   "source": [
    "for i in p:\n",
    "    \n",
    "    idf.append(i)\n",
    "    a = df[df['Physician_ID']==i]\n",
    "    a = copy.deepcopy(a)\n",
    "    call = a['Sales_Rep_Calls'].sum()\n",
    "    s = list(a['Physician_Segment'].unique())\n",
    "    l = ['Sales_Rep_Calls','Samples_Dropped','Emails_Delivered']\n",
    "    a1 = a.loc[a['Brand_Rx'] !=0]\n",
    "    \n",
    "    va = [a1['Sales_Rep_Calls'].sum(),a1['Samples_Dropped'].sum(),a1['Emails_Delivered'].sum()]\n",
    "    data = pd.DataFrame(data=va, index=l, columns=[\"score\"]).sort_values(by = \"score\", ascending=False)\n",
    "    if data.index[0] == 'Sales_Rep_Calls':\n",
    "        if s[0] == '1-High':\n",
    "            if call>48:\n",
    "                if data.index[1] == 'Samples_Dropped':\n",
    "                    if k>2500:\n",
    "                        recomm.append(data.index[2])\n",
    "                    else:\n",
    "                        recomm.append(data.index[1])\n",
    "                        k+=1\n",
    "                elif data.index[1] == 'Emails_Delivered':\n",
    "                    recomm.append(data.index[1])\n",
    "            else:\n",
    "                recomm.append(data.index[0])\n",
    "    \n",
    "        elif s[0] == '2-Medium':\n",
    "            if call>24:\n",
    "                if data.index[1] == 'Samples_Dropped':\n",
    "                    if k>2500:\n",
    "                        recomm.append(data.index[2])\n",
    "                    else:\n",
    "                        recomm.append(data.index[1])\n",
    "                        k+=1\n",
    "                elif data.index[1] == 'Emails_Delivered':\n",
    "                    recomm.append(data.index[1])\n",
    "            else:\n",
    "                recomm.append(data.index[0])\n",
    "                \n",
    "    \n",
    "        elif s[0] == '3-Low':\n",
    "            if call>12:\n",
    "                if data.index[1] == 'Samples_Dropped':\n",
    "                    if k>2500:\n",
    "                        recomm.append(data.index[2])\n",
    "                    else:\n",
    "                        recomm.append(data.index[1])\n",
    "                        k+=1\n",
    "                elif data.index[1] == 'Emails_Delivered':\n",
    "                    recomm.append(data.index[1])\n",
    "            else:\n",
    "                recomm.append(data.index[0])\n",
    "                \n",
    "                \n",
    "    elif data.index[0] == 'Samples_Dropped':\n",
    "        \n",
    "        if k>2500:\n",
    "            if data.index[1] == 'Sales_Rep_Calls':\n",
    "                if s[0] == '1-High':\n",
    "                    if call>48:\n",
    "                        recomm.append(data.index[2])\n",
    "                    else:\n",
    "                        recomm.append(data.index[1])\n",
    "                elif s[0] == '2-Medium':\n",
    "                    if call>24:\n",
    "                        recomm.append(data.index[2])\n",
    "                    else:\n",
    "                        recomm.append(data.index[1])\n",
    "                elif s[0] == '3-Low':\n",
    "                    if call>12:\n",
    "                        recomm.append(data.index[2])\n",
    "                    else:\n",
    "                        recomm.append(data.index[1])\n",
    "            elif data.index[1] == 'Emails_Delivered':\n",
    "                recomm.append(data.index[1])\n",
    "        else:\n",
    "            recomm.append(data.index[0])\n",
    "            k+=1\n",
    "        \n",
    "    elif data.index[0] == 'Emails_Delivered':\n",
    "        recomm.append(data.index[0]) "
   ]
  },
  {
   "cell_type": "code",
   "execution_count": null,
   "id": "a1c094f0",
   "metadata": {},
   "outputs": [],
   "source": [
    "# Result dataframe for task1 \n",
    "task1 = {'Physician_ID':idf,'Channel':recomm}\n",
    "task1['Channel'] = task1['Channel'].map({'Emails_Delivered': 2, 'Sales_Rep_Calls': 0,'Samples_Dropped':1})\n",
    "task1 = pd.DataFrame.from_dict(task1)"
   ]
  },
  {
   "cell_type": "code",
   "execution_count": null,
   "id": "26e111a6",
   "metadata": {},
   "outputs": [],
   "source": [
    "#Result dataframe to CSV for task1\n",
    "task1.to_csv('task1.csv',index=False)"
   ]
  },
  {
   "cell_type": "markdown",
   "id": "09f714a2",
   "metadata": {},
   "source": [
    "## Model for making Brand_rx Predictions(Task -2)\n",
    "## The model Parameters have been obtained after hyperparameter tuning and cross validation."
   ]
  },
  {
   "cell_type": "code",
   "execution_count": null,
   "id": "3168fbf5",
   "metadata": {},
   "outputs": [],
   "source": [
    "#Install lightgbm if already not installed.\n",
    "pip install lightgbm"
   ]
  },
  {
   "cell_type": "code",
   "execution_count": null,
   "id": "9c26ed3b",
   "metadata": {},
   "outputs": [],
   "source": [
    "import lightgbm as lgb"
   ]
  },
  {
   "cell_type": "code",
   "execution_count": null,
   "id": "cc9c3a4a",
   "metadata": {},
   "outputs": [],
   "source": [
    "import pandas as pd"
   ]
  },
  {
   "cell_type": "code",
   "execution_count": null,
   "id": "b185e444",
   "metadata": {},
   "outputs": [],
   "source": [
    "ids=[]\n",
    "pred=[]"
   ]
  },
  {
   "cell_type": "code",
   "execution_count": null,
   "id": "1cfa831f",
   "metadata": {},
   "outputs": [],
   "source": [
    "v = ['2019-01-04', '2019-01-11', '2019-01-18', '2019-01-25','2019-02-01', '2019-02-08', '2019-02-15', '2019-02-22','2019-03-01', '2019-03-08', '2019-03-15', '2019-03-22','2019-03-29', '2019-04-05', '2019-04-12', '2019-04-19','2019-04-26', '2019-05-03', '2019-05-10', '2019-05-17','2019-05-24', '2019-05-31', '2019-06-07', '2019-06-14','2019-06-21', '2019-06-28', '2019-07-05', '2019-07-12','2019-07-19', '2019-07-26', '2019-08-02', '2019-08-09','2019-08-16', '2019-08-23', '2019-08-30', '2019-09-06','2019-09-13', '2019-09-20', '2019-09-27', '2019-10-04','2019-10-11', '2019-10-18', '2019-10-25', '2019-11-01', '2019-11-08', '2019-11-15', '2019-11-22', '2019-11-29','2019-12-06', '2019-12-13', '2019-12-20', '2019-12-27','2020-01-03', '2020-01-10', '2020-01-17', '2020-01-24']\n",
    "b = ['2019-01-11', '2019-01-18', '2019-01-25','2019-02-01', '2019-02-08', '2019-02-15', '2019-02-22','2019-03-01', '2019-03-08', '2019-03-15', '2019-03-22','2019-03-29', '2019-04-05', '2019-04-12', '2019-04-19','2019-04-26', '2019-05-03', '2019-05-10', '2019-05-17','2019-05-24', '2019-05-31', '2019-06-07', '2019-06-14','2019-06-21', '2019-06-28', '2019-07-05', '2019-07-12','2019-07-19', '2019-07-26', '2019-08-02', '2019-08-09','2019-08-16', '2019-08-23', '2019-08-30', '2019-09-06','2019-09-13', '2019-09-20', '2019-09-27', '2019-10-04','2019-10-11', '2019-10-18', '2019-10-25', '2019-11-01', '2019-11-08', '2019-11-15', '2019-11-22', '2019-11-29','2019-12-06', '2019-12-13', '2019-12-20', '2019-12-27','2020-01-03', '2020-01-10', '2020-01-17', '2020-01-24','2020-01-31']"
   ]
  },
  {
   "cell_type": "code",
   "execution_count": null,
   "id": "7dfab89a",
   "metadata": {},
   "outputs": [],
   "source": [
    "for i in p:\n",
    "    if i in emp:\n",
    "        ids.append(i)\n",
    "        pred.append(0.0)\n",
    "    else:\n",
    "        ids.append(i)\n",
    "        original = df[df['Physician_ID']==i]\n",
    "        #ka = copy.deepcopy(ka)\n",
    "        sub = original[['DateTime','Brand_Rx']]\n",
    "        expanded = sub.set_index('DateTime').resample('D').ffill().reset_index()\n",
    "        sub = sub.set_index('DateTime')\n",
    "        br = []\n",
    "        for ii,jj in zip(v,b):\n",
    "            c= np.linspace(sub.loc[ii]['Brand_Rx'],sub.loc[jj]['Brand_Rx'],num=8)\n",
    "            c.tolist()\n",
    "            br.extend(c[:-1])\n",
    "        br.append(sub['Brand_Rx'][-1])\n",
    "        expanded['brand'] = br\n",
    "        expanded['brand_lag1']=expanded['brand'].shift(1)\n",
    "        expanded['brand_lag2']=expanded['brand'].shift(2)\n",
    "        expanded['brand_lag3']=expanded['brand'].shift(3)\n",
    "        expanded['brand_lag4']=expanded['brand'].shift(4)\n",
    "        expanded['brand_lag5']=expanded['brand'].shift(5)\n",
    "        expanded['brand_lag6']=expanded['brand'].shift(6)\n",
    "        expanded['brand_lag7']=expanded['brand'].shift(7)\n",
    "        expanded.fillna(0.0,inplace=True)\n",
    "        FEATURES = ['brand_lag1','brand_lag2','brand_lag3','brand_lag4','brand_lag5','brand_lag6','brand_lag7']\n",
    "        TARGET=['brand']\n",
    "        X_train = expanded[FEATURES]\n",
    "        y_train = expanded[TARGET]\n",
    "        d_train=lgb.Dataset(X_train,label=y_train)\n",
    "        lgb_params = {'learning_rate': 0.000001, 'boosting_type':'gbdt', 'metric':'rmse','num_leaves':100, 'max_depth':5}\n",
    "        model = lgb.train(lgb_params,d_train)\n",
    "        pre_vales1 = [expanded['brand'].iloc[-1],expanded['brand_lag1'].iloc[-1],expanded['brand_lag2'].iloc[-1],expanded['brand_lag3'].iloc[-1],expanded['brand_lag4'].iloc[-1],expanded['brand_lag5'].iloc[-1],expanded['brand_lag6'].iloc[-1]]\n",
    "        pred_acul1 = model.predict(np.asarray([pre_vales1]))\n",
    "        pred.append(pred_acul1[0])"
   ]
  },
  {
   "cell_type": "code",
   "execution_count": null,
   "id": "da58eba5",
   "metadata": {},
   "outputs": [],
   "source": [
    "# Result dataframe for task2\n",
    "task2 = {'Physician_ID':ids,'Expected_TRx':pred}\n",
    "task2 = pd.DataFrame.from_dict(task2)"
   ]
  },
  {
   "cell_type": "code",
   "execution_count": null,
   "id": "2a258c05",
   "metadata": {},
   "outputs": [],
   "source": [
    "#Result dataframe to CSV for task2\n",
    "task2.to_csv('task2.csv',index=False)"
   ]
  },
  {
   "cell_type": "code",
   "execution_count": null,
   "id": "5532317c",
   "metadata": {},
   "outputs": [],
   "source": []
  }
 ],
 "metadata": {
  "kernelspec": {
   "display_name": "Python 3",
   "language": "python",
   "name": "python3"
  },
  "language_info": {
   "codemirror_mode": {
    "name": "ipython",
    "version": 3
   },
   "file_extension": ".py",
   "mimetype": "text/x-python",
   "name": "python",
   "nbconvert_exporter": "python",
   "pygments_lexer": "ipython3",
   "version": "3.8.8"
  }
 },
 "nbformat": 4,
 "nbformat_minor": 5
}
